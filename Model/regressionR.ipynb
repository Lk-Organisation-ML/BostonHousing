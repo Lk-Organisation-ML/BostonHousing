{
  "cells": [
    {
      "cell_type": "markdown",
      "metadata": {
        "id": "cQ3hlAgb1iM_"
      },
      "source": [
        "# **Installation des packages et chargement**"
      ]
    },
    {
      "cell_type": "code",
      "execution_count": null,
      "metadata": {
        "colab": {
          "base_uri": "https://localhost:8080/"
        },
        "id": "adIgYgKsIKhD",
        "outputId": "79e4ea48-2a49-4bc1-fa9d-6530811bc5b7",
        "vscode": {
          "languageId": "python"
        }
      },
      "outputs": [
        {
          "name": "stderr",
          "output_type": "stream",
          "text": [
            "Installing package into ‘/usr/local/lib/R/site-library’\n",
            "(as ‘lib’ is unspecified)\n",
            "\n",
            "also installing the dependency ‘Rcpp’\n",
            "\n",
            "\n",
            "Installing package into ‘/usr/local/lib/R/site-library’\n",
            "(as ‘lib’ is unspecified)\n",
            "\n",
            "also installing the dependency ‘pls’\n",
            "\n",
            "\n",
            "Installing package into ‘/usr/local/lib/R/site-library’\n",
            "(as ‘lib’ is unspecified)\n",
            "\n",
            "also installing the dependencies ‘ISwR’, ‘corpcor’\n",
            "\n",
            "\n",
            "Installing package into ‘/usr/local/lib/R/site-library’\n",
            "(as ‘lib’ is unspecified)\n",
            "\n",
            "also installing the dependencies ‘R.oo’, ‘R.methodsS3’\n",
            "\n",
            "\n",
            "Installing package into ‘/usr/local/lib/R/site-library’\n",
            "(as ‘lib’ is unspecified)\n",
            "\n",
            "also installing the dependencies ‘listenv’, ‘parallelly’, ‘future’, ‘globals’, ‘shape’, ‘future.apply’, ‘numDeriv’, ‘progressr’, ‘SQUAREM’, ‘diagram’, ‘lava’, ‘prodlim’, ‘proxy’, ‘iterators’, ‘clock’, ‘gower’, ‘hardhat’, ‘ipred’, ‘timeDate’, ‘e1071’, ‘foreach’, ‘ModelMetrics’, ‘pROC’, ‘recipes’, ‘reshape2’\n",
            "\n",
            "\n",
            "Warning message in install.packages(\"caret\"):\n",
            "“installation of package ‘clock’ had non-zero exit status”\n",
            "Warning message in install.packages(\"caret\"):\n",
            "“installation of package ‘hardhat’ had non-zero exit status”\n",
            "Warning message in install.packages(\"caret\"):\n",
            "“installation of package ‘recipes’ had non-zero exit status”\n",
            "Warning message in install.packages(\"caret\"):\n",
            "“installation of package ‘caret’ had non-zero exit status”\n",
            "Installing package into ‘/usr/local/lib/R/site-library’\n",
            "(as ‘lib’ is unspecified)\n",
            "\n"
          ]
        }
      ],
      "source": [
        "install.packages(\"plyr\")\n",
        "install.packages(\"spls\")\n",
        "install.packages(\"subselect\")\n",
        "install.packages(\"R.utils\")\n",
        "install.packages(\"caret\")\n",
        "install.packages(\"leaps\")"
      ]
    },
    {
      "cell_type": "markdown",
      "metadata": {
        "id": "mMqsvjOw5S7_"
      },
      "source": [
        "chargements des package importants"
      ]
    },
    {
      "cell_type": "code",
      "execution_count": null,
      "metadata": {
        "colab": {
          "base_uri": "https://localhost:8080/",
          "height": 349
        },
        "id": "Yasm0QGUoBC3",
        "outputId": "9f48c462-9dda-4267-cc18-469a40d560c3",
        "vscode": {
          "languageId": "python"
        }
      },
      "outputs": [
        {
          "name": "stderr",
          "output_type": "stream",
          "text": [
            "\n",
            "Attaching package: ‘dplyr’\n",
            "\n",
            "\n",
            "The following objects are masked from ‘package:stats’:\n",
            "\n",
            "    filter, lag\n",
            "\n",
            "\n",
            "The following objects are masked from ‘package:base’:\n",
            "\n",
            "    intersect, setdiff, setequal, union\n",
            "\n",
            "\n"
          ]
        },
        {
          "ename": "ERROR",
          "evalue": "Error in library(caret): there is no package called ‘caret’\n",
          "output_type": "error",
          "traceback": [
            "Error in library(caret): there is no package called ‘caret’\nTraceback:\n",
            "1. library(caret)"
          ]
        }
      ],
      "source": [
        "library(ggplot2)\n",
        "library(dplyr)\n",
        "library(caret)\n",
        "library(MASS)\n",
        "library(leaps)"
      ]
    },
    {
      "cell_type": "code",
      "execution_count": null,
      "metadata": {
        "id": "1LWYt6uu5sz1",
        "vscode": {
          "languageId": "python"
        }
      },
      "outputs": [],
      "source": []
    },
    {
      "cell_type": "markdown",
      "metadata": {
        "id": "9s4LFwTW5qim"
      },
      "source": [
        "# charger et visualiser les donnée\n"
      ]
    },
    {
      "cell_type": "code",
      "execution_count": null,
      "metadata": {
        "colab": {
          "base_uri": "https://localhost:8080/",
          "height": 193
        },
        "id": "40euhk0nIf2x",
        "outputId": "6cfc6082-df29-4f5c-a33f-15adb3303ede",
        "vscode": {
          "languageId": "python"
        }
      },
      "outputs": [
        {
          "name": "stderr",
          "output_type": "stream",
          "text": [
            "Warning message in file(file, \"rt\"):\n",
            "“cannot open file 'BostonHousing.csv': No such file or directory”\n"
          ]
        },
        {
          "ename": "ERROR",
          "evalue": "Error in file(file, \"rt\"): cannot open the connection\n",
          "output_type": "error",
          "traceback": [
            "Error in file(file, \"rt\"): cannot open the connection\nTraceback:\n",
            "1. read.csv(\"BostonHousing.csv\")",
            "2. read.table(file = file, header = header, sep = sep, quote = quote, \n .     dec = dec, fill = fill, comment.char = comment.char, ...)",
            "3. file(file, \"rt\")"
          ]
        }
      ],
      "source": [
        "# Charger les données\n",
        "data <- read.csv('../Data/BostonHousing.csv')\n",
        "\n",
        "# Exploration initiale des données\n",
        "print(\"head\")\n",
        "print(head(data)) #visualiser les données\n",
        "\n",
        "print(\"\\n Sumary\")\n",
        "print(summary(data)) #voir la description des donnée min max les equart interquatile , le moyenne la médiane\n",
        "\n",
        "print(\"\\n data\")\n",
        "print(str(data)) # voir dimension et type des variables"
      ]
    },
    {
      "cell_type": "markdown",
      "metadata": {
        "id": "9c8uShFB54l9"
      },
      "source": [
        "#Traitement valeur manquante , abérante et incohérente"
      ]
    },
    {
      "cell_type": "markdown",
      "metadata": {
        "id": "44_fEkmy6IVn"
      },
      "source": [
        "etant donnée qu'ont a pas les méthadonné du dataset et lors de la verification des types tout correspond je n'est pas fait d'analyse sur ces deux caractéristique"
      ]
    },
    {
      "cell_type": "code",
      "execution_count": null,
      "metadata": {
        "colab": {
          "base_uri": "https://localhost:8080/"
        },
        "id": "sabkVdPH6lyy",
        "outputId": "b08fe554-b592-4dc8-97c2-67bbfe1b340a",
        "vscode": {
          "languageId": "python"
        }
      },
      "outputs": [
        {
          "name": "stdout",
          "output_type": "stream",
          "text": [
            "     CRIM        ZN     INDUS      CHAS       NOX        RM       AGE       DIS \n",
            "        0         0         0         0         0         0         0         0 \n",
            "      RAD   PTRATIO     LSTAT      MEDV CAT..MEDV \n",
            "        0         0         0         0         0 \n"
          ]
        }
      ],
      "source": [
        "# # Gestion des valeurs manquantes\n",
        "print(colSums(is.na(data))) #voir igne ou ils y a de valeur manquante"
      ]
    },
    {
      "cell_type": "code",
      "execution_count": null,
      "metadata": {
        "colab": {
          "base_uri": "https://localhost:8080/"
        },
        "id": "ITCslwL4IkJ3",
        "outputId": "446502fc-f786-49b6-bd72-3a6739f53310",
        "vscode": {
          "languageId": "python"
        }
      },
      "outputs": [
        {
          "name": "stdout",
          "output_type": "stream",
          "text": [
            "'data.frame':\t506 obs. of  13 variables:\n",
            " $ CRIM     : num  0.00632 0.02731 0.02729 0.03237 0.06905 ...\n",
            " $ ZN       : num  18 0 0 0 0 0 12.5 12.5 12.5 12.5 ...\n",
            " $ INDUS    : num  2.31 7.07 7.07 2.18 2.18 2.18 7.87 7.87 7.87 7.87 ...\n",
            " $ CHAS     : int  0 0 0 0 0 0 0 0 0 0 ...\n",
            " $ NOX      : num  0.538 0.469 0.469 0.458 0.458 0.458 0.524 0.524 0.524 0.524 ...\n",
            " $ RM       : num  6.58 6.42 7.18 7 7.15 ...\n",
            " $ AGE      : num  65.2 78.9 61.1 45.8 54.2 58.7 66.6 96.1 100 85.9 ...\n",
            " $ DIS      : num  4.09 4.97 4.97 6.06 6.06 ...\n",
            " $ RAD      : int  1 2 2 3 3 3 5 5 5 5 ...\n",
            " $ PTRATIO  : num  15.3 17.8 17.8 18.7 18.7 18.7 15.2 15.2 15.2 15.2 ...\n",
            " $ LSTAT    : num  4.98 9.14 4.03 2.94 5.33 ...\n",
            " $ MEDV     : num  24 21.6 34.7 33.4 36.2 28.7 22.9 27.1 16.5 18.9 ...\n",
            " $ CAT..MEDV: int  0 0 1 1 1 0 0 0 0 0 ...\n",
            "NULL\n"
          ]
        }
      ],
      "source": [
        "print(str(data))"
      ]
    },
    {
      "cell_type": "markdown",
      "metadata": {
        "id": "XgkmnuoX6xAe"
      },
      "source": [
        "# Correlation des différentes variables"
      ]
    },
    {
      "cell_type": "code",
      "execution_count": null,
      "metadata": {
        "colab": {
          "base_uri": "https://localhost:8080/"
        },
        "id": "3WJHBwvrstTQ",
        "outputId": "56a0a83b-2d18-4e58-cbaf-a11c68196fed",
        "vscode": {
          "languageId": "python"
        }
      },
      "outputs": [
        {
          "name": "stdout",
          "output_type": "stream",
          "text": [
            "            CRIM        CHAS         RM\n",
            "CRIM  1.00000000 -0.07201227 -0.2222185\n",
            "CHAS -0.07201227  1.00000000  0.0716118\n",
            "RM   -0.22221847  0.07161180  1.0000000\n"
          ]
        }
      ],
      "source": [
        "# Calculer la matrice de corrélation pour CRIM, CHAS et RM\n",
        "cor_matrix <- cor(boston_train[c(\"CRIM\", \"CHAS\", \"RM\")])\n",
        "\n",
        "# Afficher la matrice de corrélation\n",
        "print(cor_matrix)\n"
      ]
    },
    {
      "cell_type": "code",
      "execution_count": null,
      "metadata": {
        "colab": {
          "base_uri": "https://localhost:8080/"
        },
        "id": "Td9YPHHEz3RK",
        "outputId": "3f98661d-a8fe-4bc6-f3a0-6a9603b72927",
        "vscode": {
          "languageId": "python"
        }
      },
      "outputs": [
        {
          "name": "stdout",
          "output_type": "stream",
          "text": [
            "          INDUS       NOX       TAX\n",
            "INDUS 1.0000000 0.7636514 0.7207602\n",
            "NOX   0.7636514 1.0000000 0.6680232\n",
            "TAX   0.7207602 0.6680232 1.0000000\n"
          ]
        }
      ],
      "source": [
        "# Calcul de la matrice de corrélation\n",
        "cor_matrix <- cor(data[c(\"INDUS\", \"NOX\", \"TAX\")])\n",
        "\n",
        "# Affichage de la matrice de corrélation\n",
        "print(cor_matrix)\n"
      ]
    },
    {
      "cell_type": "code",
      "execution_count": null,
      "metadata": {
        "colab": {
          "base_uri": "https://localhost:8080/"
        },
        "id": "fQQqUaU704Ni",
        "outputId": "cdf41846-8374-4500-947e-e1a3abdbbc85",
        "vscode": {
          "languageId": "python"
        }
      },
      "outputs": [
        {
          "name": "stdout",
          "output_type": "stream",
          "text": [
            "               CRIM          ZN       INDUS         CHAS         NOX\n",
            "CRIM     1.00000000 -0.20046922  0.40658341 -0.055891582  0.42097171\n",
            "ZN      -0.20046922  1.00000000 -0.53382819 -0.042696719 -0.51660371\n",
            "INDUS    0.40658341 -0.53382819  1.00000000  0.062938027  0.76365145\n",
            "CHAS    -0.05589158 -0.04269672  0.06293803  1.000000000  0.09120281\n",
            "NOX      0.42097171 -0.51660371  0.76365145  0.091202807  1.00000000\n",
            "RM      -0.21924670  0.31199059 -0.39167585  0.091251225 -0.30218819\n",
            "AGE      0.35273425 -0.56953734  0.64477851  0.086517774  0.73147010\n",
            "DIS     -0.37967009  0.66440822 -0.70802699 -0.099175780 -0.76923011\n",
            "RAD      0.62550515 -0.31194783  0.59512927 -0.007368241  0.61144056\n",
            "TAX      0.58276431 -0.31456332  0.72076018 -0.035586518  0.66802320\n",
            "PTRATIO  0.28994558 -0.39167855  0.38324756 -0.121515174  0.18893268\n",
            "LSTAT    0.45562148 -0.41299457  0.60379972 -0.053929298  0.59087892\n",
            "                 RM         AGE         DIS          RAD         TAX    PTRATIO\n",
            "CRIM    -0.21924670  0.35273425 -0.37967009  0.625505145  0.58276431  0.2899456\n",
            "ZN       0.31199059 -0.56953734  0.66440822 -0.311947826 -0.31456332 -0.3916785\n",
            "INDUS   -0.39167585  0.64477851 -0.70802699  0.595129275  0.72076018  0.3832476\n",
            "CHAS     0.09125123  0.08651777 -0.09917578 -0.007368241 -0.03558652 -0.1215152\n",
            "NOX     -0.30218819  0.73147010 -0.76923011  0.611440563  0.66802320  0.1889327\n",
            "RM       1.00000000 -0.24026493  0.20524621 -0.209846668 -0.29204783 -0.3555015\n",
            "AGE     -0.24026493  1.00000000 -0.74788054  0.456022452  0.50645559  0.2615150\n",
            "DIS      0.20524621 -0.74788054  1.00000000 -0.494587930 -0.53443158 -0.2324705\n",
            "RAD     -0.20984667  0.45602245 -0.49458793  1.000000000  0.91022819  0.4647412\n",
            "TAX     -0.29204783  0.50645559 -0.53443158  0.910228189  1.00000000  0.4608530\n",
            "PTRATIO -0.35550149  0.26151501 -0.23247054  0.464741179  0.46085304  1.0000000\n",
            "LSTAT   -0.61380827  0.60233853 -0.49699583  0.488676335  0.54399341  0.3740443\n",
            "             LSTAT\n",
            "CRIM     0.4556215\n",
            "ZN      -0.4129946\n",
            "INDUS    0.6037997\n",
            "CHAS    -0.0539293\n",
            "NOX      0.5908789\n",
            "RM      -0.6138083\n",
            "AGE      0.6023385\n",
            "DIS     -0.4969958\n",
            "RAD      0.4886763\n",
            "TAX      0.5439934\n",
            "PTRATIO  0.3740443\n",
            "LSTAT    1.0000000\n"
          ]
        }
      ],
      "source": [
        "# Sélectionner les prédicteurs numériques (hypothétiquement nommés ici)\n",
        "numeric_predictors <- c(\"CRIM\", \"ZN\", \"INDUS\", \"CHAS\", \"NOX\", \"RM\",\n",
        "                        \"AGE\", \"DIS\", \"RAD\", \"TAX\", \"PTRATIO\", \"LSTAT\")\n",
        "\n",
        "# Calculer la matrice de corrélation\n",
        "cor_matrix <- cor(data[, numeric_predictors])\n",
        "\n",
        "# Afficher la matrice de corrélation\n",
        "print(cor_matrix)"
      ]
    },
    {
      "cell_type": "code",
      "execution_count": null,
      "metadata": {
        "colab": {
          "base_uri": "https://localhost:8080/",
          "height": 295
        },
        "id": "0fqsW7zk3BJ6",
        "outputId": "52916f96-5e96-4445-ee31-b140066e05cb",
        "vscode": {
          "languageId": "python"
        }
      },
      "outputs": [
        {
          "data": {
            "text/html": [
              "<style>\n",
              ".list-inline {list-style: none; margin:0; padding: 0}\n",
              ".list-inline>li {display: inline-block}\n",
              ".list-inline>li:not(:last-child)::after {content: \"\\00b7\"; padding: 0 .5ex}\n",
              "</style>\n",
              "<ol class=list-inline><li>506</li><li>13</li></ol>\n"
            ],
            "text/latex": [
              "\\begin{enumerate*}\n",
              "\\item 506\n",
              "\\item 13\n",
              "\\end{enumerate*}\n"
            ],
            "text/markdown": [
              "1. 506\n",
              "2. 13\n",
              "\n",
              "\n"
            ],
            "text/plain": [
              "[1] 506  13"
            ]
          },
          "metadata": {},
          "output_type": "display_data"
        },
        {
          "name": "stdout",
          "output_type": "stream",
          "text": [
            "'data.frame':\t506 obs. of  13 variables:\n",
            " $ CRIM     : num  0.00632 0.02731 0.02729 0.03237 0.06905 ...\n",
            " $ ZN       : num  18 0 0 0 0 0 12.5 12.5 12.5 12.5 ...\n",
            " $ INDUS    : num  2.31 7.07 7.07 2.18 2.18 2.18 7.87 7.87 7.87 7.87 ...\n",
            " $ CHAS     : int  0 0 0 0 0 0 0 0 0 0 ...\n",
            " $ NOX      : num  0.538 0.469 0.469 0.458 0.458 0.458 0.524 0.524 0.524 0.524 ...\n",
            " $ RM       : num  6.58 6.42 7.18 7 7.15 ...\n",
            " $ AGE      : num  65.2 78.9 61.1 45.8 54.2 58.7 66.6 96.1 100 85.9 ...\n",
            " $ DIS      : num  4.09 4.97 4.97 6.06 6.06 ...\n",
            " $ RAD      : int  1 2 2 3 3 3 5 5 5 5 ...\n",
            " $ PTRATIO  : num  15.3 17.8 17.8 18.7 18.7 18.7 15.2 15.2 15.2 15.2 ...\n",
            " $ LSTAT    : num  4.98 9.14 4.03 2.94 5.33 ...\n",
            " $ MEDV     : num  24 21.6 34.7 33.4 36.2 28.7 22.9 27.1 16.5 18.9 ...\n",
            " $ CAT..MEDV: int  0 0 1 1 1 0 0 0 0 0 ...\n",
            "NULL\n"
          ]
        }
      ],
      "source": [
        "# Suppression de la colonne TAX\n",
        "data <- data[, !colnames(data) %in% \"TAX\"]\n",
        "\n",
        "# Vérification des dimensions après suppression\n",
        "dim(data)\n",
        "print(str(data))"
      ]
    },
    {
      "cell_type": "code",
      "execution_count": null,
      "metadata": {
        "colab": {
          "base_uri": "https://localhost:8080/",
          "height": 34
        },
        "id": "X-XP0mynQmEX",
        "outputId": "d6c9a96f-9dd2-4d1b-c8e2-191f78777780",
        "vscode": {
          "languageId": "python"
        }
      },
      "outputs": [
        {
          "data": {
            "text/html": [
              "229"
            ],
            "text/latex": [
              "229"
            ],
            "text/markdown": [
              "229"
            ],
            "text/plain": [
              "[1] 229"
            ]
          },
          "metadata": {},
          "output_type": "display_data"
        }
      ],
      "source": [
        "# Vérifier le nombre de valeurs uniques dans MEDV\n",
        "unique_values <- unique(data$MEDV)\n",
        "length(unique_values)\n"
      ]
    },
    {
      "cell_type": "markdown",
      "metadata": {
        "id": "1si1NXEJ7Ai1"
      },
      "source": [
        "#Partitionnement en tain set et  test set"
      ]
    },
    {
      "cell_type": "code",
      "execution_count": null,
      "metadata": {
        "colab": {
          "base_uri": "https://localhost:8080/",
          "height": 52
        },
        "id": "nnXA4_puIquG",
        "outputId": "255e6cbc-def3-4fd3-df09-758573cf063d",
        "vscode": {
          "languageId": "python"
        }
      },
      "outputs": [
        {
          "data": {
            "text/html": [
              "<style>\n",
              ".list-inline {list-style: none; margin:0; padding: 0}\n",
              ".list-inline>li {display: inline-block}\n",
              ".list-inline>li:not(:last-child)::after {content: \"\\00b7\"; padding: 0 .5ex}\n",
              "</style>\n",
              "<ol class=list-inline><li>354</li><li>14</li></ol>\n"
            ],
            "text/latex": [
              "\\begin{enumerate*}\n",
              "\\item 354\n",
              "\\item 14\n",
              "\\end{enumerate*}\n"
            ],
            "text/markdown": [
              "1. 354\n",
              "2. 14\n",
              "\n",
              "\n"
            ],
            "text/plain": [
              "[1] 354  14"
            ]
          },
          "metadata": {},
          "output_type": "display_data"
        },
        {
          "data": {
            "text/html": [
              "<style>\n",
              ".list-inline {list-style: none; margin:0; padding: 0}\n",
              ".list-inline>li {display: inline-block}\n",
              ".list-inline>li:not(:last-child)::after {content: \"\\00b7\"; padding: 0 .5ex}\n",
              "</style>\n",
              "<ol class=list-inline><li>152</li><li>14</li></ol>\n"
            ],
            "text/latex": [
              "\\begin{enumerate*}\n",
              "\\item 152\n",
              "\\item 14\n",
              "\\end{enumerate*}\n"
            ],
            "text/markdown": [
              "1. 152\n",
              "2. 14\n",
              "\n",
              "\n"
            ],
            "text/plain": [
              "[1] 152  14"
            ]
          },
          "metadata": {},
          "output_type": "display_data"
        }
      ],
      "source": [
        "\n",
        "#+++++++++++++++Partitionner les données en ensembles d'entraînement et de validation+\n",
        "\n",
        "# Définir un seed pour la reproductibilité\n",
        "\n",
        "set.seed(123)\n",
        "n <- nrow(data)\n",
        "train_indices <- sample(1:n, round(0.7*n), replace = FALSE)\n",
        "boston_train <- data[train_indices, ]\n",
        "boston_test <- data[-train_indices, ]\n",
        "# Vérifier les dimensions des ensembles\n",
        "dim(boston_train)\n",
        "dim(boston_test)\n"
      ]
    },
    {
      "cell_type": "markdown",
      "metadata": {
        "id": "fnfr0e2p7WYe"
      },
      "source": [
        "# Ajuster le modèle de régression linéaire multiple\n",
        "\n",
        "---\n"
      ]
    },
    {
      "cell_type": "code",
      "execution_count": null,
      "metadata": {
        "colab": {
          "base_uri": "https://localhost:8080/",
          "height": 364
        },
        "id": "QGq05sH3ItwU",
        "outputId": "5221df46-184a-44b2-9371-f565bde115b3",
        "vscode": {
          "languageId": "python"
        }
      },
      "outputs": [
        {
          "data": {
            "text/plain": [
              "\n",
              "Call:\n",
              "lm(formula = MEDV ~ CRIM + CHAS + RM, data = boston_train)\n",
              "\n",
              "Residuals:\n",
              "    Min      1Q  Median      3Q     Max \n",
              "-16.851  -2.959  -0.382   2.365  38.596 \n",
              "\n",
              "Coefficients:\n",
              "             Estimate Std. Error t value Pr(>|t|)    \n",
              "(Intercept) -26.76051    3.16874  -8.445 8.21e-16 ***\n",
              "CRIM         -0.23292    0.03608  -6.456 3.58e-10 ***\n",
              "CHAS          5.53682    1.28391   4.312 2.10e-05 ***\n",
              "RM            7.90845    0.49811  15.877  < 2e-16 ***\n",
              "---\n",
              "Signif. codes:  0 ‘***’ 0.001 ‘**’ 0.01 ‘*’ 0.05 ‘.’ 0.1 ‘ ’ 1\n",
              "\n",
              "Residual standard error: 6.275 on 350 degrees of freedom\n",
              "Multiple R-squared:  0.5278,\tAdjusted R-squared:  0.5237 \n",
              "F-statistic: 130.4 on 3 and 350 DF,  p-value: < 2.2e-16\n"
            ]
          },
          "metadata": {},
          "output_type": "display_data"
        }
      ],
      "source": [
        "\n",
        "#++++++++++++ Ajuster un modèle de régression linéaire multiple++++++++\n",
        "#\n",
        "model <- lm(MEDV ~ CRIM + CHAS + RM, data = boston_train)\n",
        "\n",
        "# Afficher le résumé du modèle\n",
        "summary(model)\n"
      ]
    },
    {
      "cell_type": "code",
      "execution_count": null,
      "metadata": {
        "colab": {
          "base_uri": "https://localhost:8080/",
          "height": 454
        },
        "id": "Yh4uxOlhrPeR",
        "outputId": "3605800a-6337-4c6a-dc84-060b82fc0c52",
        "vscode": {
          "languageId": "python"
        }
      },
      "outputs": [
        {
          "data": {
            "text/html": [
              "<style>\n",
              ".dl-inline {width: auto; margin:0; padding: 0}\n",
              ".dl-inline>dt, .dl-inline>dd {float: none; width: auto; display: inline-block}\n",
              ".dl-inline>dt::after {content: \":\\0020\"; padding-right: .5ex}\n",
              ".dl-inline>dt:not(:first-of-type) {padding-left: .5ex}\n",
              "</style><dl class=dl-inline><dt>(Intercept)</dt><dd>-26.7605140290347</dd><dt>CRIM</dt><dd>-0.232921171150386</dd><dt>CHAS</dt><dd>5.53681557569763</dd><dt>RM</dt><dd>7.90844907115744</dd></dl>\n"
            ],
            "text/latex": [
              "\\begin{description*}\n",
              "\\item[(Intercept)] -26.7605140290347\n",
              "\\item[CRIM] -0.232921171150386\n",
              "\\item[CHAS] 5.53681557569763\n",
              "\\item[RM] 7.90844907115744\n",
              "\\end{description*}\n"
            ],
            "text/markdown": [
              "(Intercept)\n",
              ":   -26.7605140290347CRIM\n",
              ":   -0.232921171150386CHAS\n",
              ":   5.53681557569763RM\n",
              ":   7.90844907115744\n",
              "\n"
            ],
            "text/plain": [
              "(Intercept)        CRIM        CHAS          RM \n",
              "-26.7605140  -0.2329212   5.5368156   7.9084491 "
            ]
          },
          "metadata": {},
          "output_type": "display_data"
        },
        {
          "data": {
            "image/png": "[encoded data removed]",
            "text/plain": [
              "plot without title"
            ]
          },
          "metadata": {
            "image/png": {
              "height": 420,
              "width": 420
            }
          },
          "output_type": "display_data"
        }
      ],
      "source": [
        "# Faire des prédictions sur le jeu de test\n",
        "predictions <- predict(model, newdata = boston_test)\n",
        "\n",
        "# Créer un data frame avec les prédictions et les valeurs réelles\n",
        "plot_data <- data.frame(\n",
        "  Actual = boston_test$MEDV,\n",
        "  Predicted = predictions\n",
        ")\n",
        "\n",
        "# Nuage de points et droite de régression\n",
        "ggplot(plot_data, aes(x = Actual, y = Predicted)) +\n",
        "  geom_point() +\n",
        "  geom_abline(intercept = coef(model)[1], slope = coef(model)[2], color = \"blue\") +\n",
        "  labs(x = \"Valeurs réelles (Actual)\", y = \"Prédictions (Predicted)\", title = \"Nuage de points et droite de régression\") +\n",
        "  theme_minimal()"
      ]
    },
    {
      "cell_type": "code",
      "execution_count": null,
      "metadata": {
        "colab": {
          "base_uri": "https://localhost:8080/",
          "height": 34
        },
        "id": "a4maASQJ7hUA",
        "outputId": "3ad5c3f2-60fc-4a13-ccb2-c8cddac30f42",
        "vscode": {
          "languageId": "python"
        }
      },
      "outputs": [
        {
          "data": {
            "text/html": [
              "<style>\n",
              ".dl-inline {width: auto; margin:0; padding: 0}\n",
              ".dl-inline>dt, .dl-inline>dd {float: none; width: auto; display: inline-block}\n",
              ".dl-inline>dt::after {content: \":\\0020\"; padding-right: .5ex}\n",
              ".dl-inline>dt:not(:first-of-type) {padding-left: .5ex}\n",
              "</style><dl class=dl-inline><dt>(Intercept)</dt><dd>-26.7605140290347</dd><dt>CRIM</dt><dd>-0.232921171150386</dd><dt>CHAS</dt><dd>5.53681557569763</dd><dt>RM</dt><dd>7.90844907115744</dd></dl>\n"
            ],
            "text/latex": [
              "\\begin{description*}\n",
              "\\item[(Intercept)] -26.7605140290347\n",
              "\\item[CRIM] -0.232921171150386\n",
              "\\item[CHAS] 5.53681557569763\n",
              "\\item[RM] 7.90844907115744\n",
              "\\end{description*}\n"
            ],
            "text/markdown": [
              "(Intercept)\n",
              ":   -26.7605140290347CRIM\n",
              ":   -0.232921171150386CHAS\n",
              ":   5.53681557569763RM\n",
              ":   7.90844907115744\n",
              "\n"
            ],
            "text/plain": [
              "(Intercept)        CRIM        CHAS          RM \n",
              "-26.7605140  -0.2329212   5.5368156   7.9084491 "
            ]
          },
          "metadata": {},
          "output_type": "display_data"
        }
      ],
      "source": [
        "# Équation du modèle : MEDV = intercept + coef(CRIM) * CRIM + coef(CHAS) * CHAS + coef(RM) * RM\n",
        "coefficients(model)"
      ]
    },
    {
      "cell_type": "markdown",
      "metadata": {
        "id": "F_yghe2C7rVk"
      },
      "source": [
        "# Régression pas à pas"
      ]
    },
    {
      "cell_type": "code",
      "execution_count": null,
      "metadata": {
        "colab": {
          "base_uri": "https://localhost:8080/",
          "height": 1000
        },
        "id": "TVGQPoOu_tfD",
        "outputId": "6d6db470-1208-494c-fb7a-7edc3bdcd1c7",
        "vscode": {
          "languageId": "python"
        }
      },
      "outputs": [
        {
          "data": {
            "text/plain": [
              "Subset selection object\n",
              "13 Variables  (and intercept)\n",
              "          Forced in Forced out\n",
              "CRIM          FALSE      FALSE\n",
              "ZN            FALSE      FALSE\n",
              "INDUS         FALSE      FALSE\n",
              "CHAS          FALSE      FALSE\n",
              "NOX           FALSE      FALSE\n",
              "RM            FALSE      FALSE\n",
              "AGE           FALSE      FALSE\n",
              "DIS           FALSE      FALSE\n",
              "RAD           FALSE      FALSE\n",
              "TAX           FALSE      FALSE\n",
              "PTRATIO       FALSE      FALSE\n",
              "LSTAT         FALSE      FALSE\n",
              "CAT..MEDV     FALSE      FALSE\n",
              "1 subsets of each size up to 4\n",
              "Selection Algorithm: backward"
            ]
          },
          "metadata": {},
          "output_type": "display_data"
        },
        {
          "data": {
            "text/plain": [
              "Subset selection object\n",
              "13 Variables  (and intercept)\n",
              "          Forced in Forced out\n",
              "CRIM          FALSE      FALSE\n",
              "ZN            FALSE      FALSE\n",
              "INDUS         FALSE      FALSE\n",
              "CHAS          FALSE      FALSE\n",
              "NOX           FALSE      FALSE\n",
              "RM            FALSE      FALSE\n",
              "AGE           FALSE      FALSE\n",
              "DIS           FALSE      FALSE\n",
              "RAD           FALSE      FALSE\n",
              "TAX           FALSE      FALSE\n",
              "PTRATIO       FALSE      FALSE\n",
              "LSTAT         FALSE      FALSE\n",
              "CAT..MEDV     FALSE      FALSE\n",
              "1 subsets of each size up to 4\n",
              "Selection Algorithm: forward"
            ]
          },
          "metadata": {},
          "output_type": "display_data"
        },
        {
          "data": {
            "text/plain": [
              "Subset selection object\n",
              "13 Variables  (and intercept)\n",
              "          Forced in Forced out\n",
              "CRIM          FALSE      FALSE\n",
              "ZN            FALSE      FALSE\n",
              "INDUS         FALSE      FALSE\n",
              "CHAS          FALSE      FALSE\n",
              "NOX           FALSE      FALSE\n",
              "RM            FALSE      FALSE\n",
              "AGE           FALSE      FALSE\n",
              "DIS           FALSE      FALSE\n",
              "RAD           FALSE      FALSE\n",
              "TAX           FALSE      FALSE\n",
              "PTRATIO       FALSE      FALSE\n",
              "LSTAT         FALSE      FALSE\n",
              "CAT..MEDV     FALSE      FALSE\n",
              "1 subsets of each size up to 2\n",
              "Selection Algorithm: 'sequential replacement'"
            ]
          },
          "metadata": {},
          "output_type": "display_data"
        },
        {
          "name": "stdout",
          "output_type": "stream",
          "text": [
            "RMSE Backward:  4.167967 \n",
            "RMSE Forward:  4.122387 \n",
            "RMSE Both:  4.223194 \n"
          ]
        }
      ],
      "source": [
        "# Définir le contrôle pour la régression pas à pas\n",
        "control <- trainControl(method=\"cv\", number=10)\n",
        "\n",
        "# Régression pas à pas rétrograde\n",
        "stepwise_model_backward <- train(MEDV ~ ., data = boston_train, method = \"leapBackward\", trControl = control)\n",
        "stepwise_model_backward$finalModel\n",
        "\n",
        "# Régression pas à pas progressive\n",
        "stepwise_model_forward <- train(MEDV ~ ., data = boston_train, method = \"leapForward\", trControl = control)\n",
        "stepwise_model_forward$finalModel\n",
        "\n",
        "# Régression pas à pas bidirectionnelle\n",
        "stepwise_model_both <- train(MEDV ~ ., data = boston_train, method = \"leapSeq\", trControl = control)\n",
        "stepwise_model_both$finalModel\n",
        "\n",
        "# Comparer les RMSE des modèles\n",
        "predictions_backward <- predict(stepwise_model_backward, newdata = boston_test)\n",
        "RMSE_backward <- sqrt(mean((boston_test$MEDV - predictions_backward)^2))\n",
        "\n",
        "predictions_forward <- predict(stepwise_model_forward, newdata = boston_test)\n",
        "RMSE_forward <- sqrt(mean((boston_test$MEDV - predictions_forward)^2))\n",
        "\n",
        "predictions_both <- predict(stepwise_model_both, newdata = boston_test)\n",
        "RMSE_both <- sqrt(mean((boston_test$MEDV - predictions_both)^2))\n",
        "\n"
      ]
    },
    {
      "cell_type": "markdown",
      "metadata": {
        "id": "igenZLey86Wu"
      },
      "source": [
        " **RMSE**\n",
        "\n",
        "---\n",
        "\n"
      ]
    },
    {
      "cell_type": "code",
      "execution_count": null,
      "metadata": {
        "colab": {
          "base_uri": "https://localhost:8080/"
        },
        "id": "lptijU_vrHgP",
        "outputId": "2f99449a-1207-49e4-9749-3515579cb9ff",
        "vscode": {
          "languageId": "python"
        }
      },
      "outputs": [
        {
          "name": "stdout",
          "output_type": "stream",
          "text": [
            "RMSE Backward:  4.167967 \n",
            "RMSE Forward:  4.122387 \n",
            "RMSE Both:  4.223194 \n"
          ]
        }
      ],
      "source": [
        "cat(\"RMSE Backward: \", RMSE_backward, \"\\n\")\n",
        "cat(\"RMSE Forward: \", RMSE_forward, \"\\n\")\n",
        "cat(\"RMSE Both: \", RMSE_both, \"\\n\")\n"
      ]
    },
    {
      "cell_type": "markdown",
      "metadata": {
        "id": "rb6zsAVD9HpW"
      },
      "source": [
        "# PRÉDICTION AVEC L'EQUATION DE LA REGRESSION\n",
        "\n"
      ]
    },
    {
      "cell_type": "code",
      "execution_count": null,
      "metadata": {
        "colab": {
          "base_uri": "https://localhost:8080/",
          "height": 34
        },
        "id": "59hQa-Hfw84a",
        "outputId": "7ae14bf7-1f07-4bca-9467-a8412f2a8b01",
        "vscode": {
          "languageId": "python"
        }
      },
      "outputs": [
        {
          "data": {
            "text/html": [
              "14.29852"
            ],
            "text/latex": [
              "14.29852"
            ],
            "text/markdown": [
              "14.29852"
            ],
            "text/plain": [
              "[1] 14.29852"
            ]
          },
          "metadata": {},
          "output_type": "display_data"
        }
      ],
      "source": [
        "# Définir de nouvelles valeurs pour CRIM, CHAS et RM\n",
        "new_data <- data.frame(CRIM = 0.1, CHAS = 0, RM = 6)\n",
        "\n",
        "\n",
        "predicted_value <- -34.6706 - 0.0708 * new_data$CRIM + 3.2438 * new_data$CHAS + 8.1627 * new_data$RM\n",
        "\n",
        "# Afficher la prédiction\n",
        "predicted_value\n"
      ]
    },
    {
      "cell_type": "code",
      "execution_count": null,
      "metadata": {
        "colab": {
          "base_uri": "https://localhost:8080/",
          "height": 34
        },
        "id": "cFMJru0Fxl16",
        "outputId": "2ac3da7e-c65f-411c-ee88-b28b11911e21",
        "vscode": {
          "languageId": "python"
        }
      },
      "outputs": [
        {
          "data": {
            "text/html": [
              "0.701480000000011"
            ],
            "text/latex": [
              "0.701480000000011"
            ],
            "text/markdown": [
              "0.701480000000011"
            ],
            "text/plain": [
              "[1] 0.70148"
            ]
          },
          "metadata": {},
          "output_type": "display_data"
        }
      ],
      "source": [
        "# Valeur réelle (hypothétique, remplacez par la vraie valeur si disponible)\n",
        "actual_value <- 15\n",
        "\n",
        "# Calculer l'erreur de prédiction (RMSE)\n",
        "RMSE <- sqrt(mean((predicted_value - actual_value)^2))\n",
        "\n",
        "# Afficher le RMSE\n",
        "RMSE"
      ]
    }
  ],
  "metadata": {
    "colab": {
      "provenance": []
    },
    "kernelspec": {
      "display_name": "R",
      "name": "ir"
    },
    "language_info": {
      "name": "R"
    }
  },
  "nbformat": 4,
  "nbformat_minor": 0
}
